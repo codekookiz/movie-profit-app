{
 "cells": [
  {
   "cell_type": "code",
   "execution_count": 4,
   "metadata": {},
   "outputs": [],
   "source": [
    "import pandas as pd"
   ]
  },
  {
   "cell_type": "code",
   "execution_count": 5,
   "metadata": {},
   "outputs": [
    {
     "data": {
      "text/html": [
       "<div>\n",
       "<style scoped>\n",
       "    .dataframe tbody tr th:only-of-type {\n",
       "        vertical-align: middle;\n",
       "    }\n",
       "\n",
       "    .dataframe tbody tr th {\n",
       "        vertical-align: top;\n",
       "    }\n",
       "\n",
       "    .dataframe thead th {\n",
       "        text-align: right;\n",
       "    }\n",
       "</style>\n",
       "<table border=\"1\" class=\"dataframe\">\n",
       "  <thead>\n",
       "    <tr style=\"text-align: right;\">\n",
       "      <th></th>\n",
       "      <th>영화명</th>\n",
       "      <th>개봉 연도</th>\n",
       "      <th>상영 시간</th>\n",
       "      <th>상영 등급</th>\n",
       "      <th>장르</th>\n",
       "      <th>제작 비용 ($)</th>\n",
       "      <th>개봉 주말 수익 ($)</th>\n",
       "      <th>유형</th>\n",
       "      <th>북미 예상 수익 ($)</th>\n",
       "      <th>전세계 예상 수익 ($)</th>\n",
       "    </tr>\n",
       "  </thead>\n",
       "  <tbody>\n",
       "  </tbody>\n",
       "</table>\n",
       "</div>"
      ],
      "text/plain": [
       "Empty DataFrame\n",
       "Columns: [영화명, 개봉 연도, 상영 시간, 상영 등급, 장르, 제작 비용 ($), 개봉 주말 수익 ($), 유형, 북미 예상 수익 ($), 전세계 예상 수익 ($)]\n",
       "Index: []"
      ]
     },
     "execution_count": 5,
     "metadata": {},
     "output_type": "execute_result"
    }
   ],
   "source": [
    "save_df = pd.DataFrame(columns=[\"영화명\", \"개봉 연도\", \"상영 시간\", \"상영 등급\", \"장르\", \"제작 비용 ($)\",\n",
    "                                                 \"개봉 주말 수익 ($)\", \"유형\", \"북미 예상 수익 ($)\", \"전세계 예상 수익 ($)\"])\n",
    "save_df"
   ]
  },
  {
   "cell_type": "code",
   "execution_count": null,
   "metadata": {},
   "outputs": [],
   "source": [
    "save_df.to_csv('../data/result.csv', index=False)"
   ]
  }
 ],
 "metadata": {
  "kernelspec": {
   "display_name": "hi",
   "language": "python",
   "name": "python3"
  },
  "language_info": {
   "codemirror_mode": {
    "name": "ipython",
    "version": 3
   },
   "file_extension": ".py",
   "mimetype": "text/x-python",
   "name": "python",
   "nbconvert_exporter": "python",
   "pygments_lexer": "ipython3",
   "version": "3.10.16"
  }
 },
 "nbformat": 4,
 "nbformat_minor": 2
}
